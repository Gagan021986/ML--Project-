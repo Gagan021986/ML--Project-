{
 "cells": [
  {
   "cell_type": "markdown",
   "id": "ac88bc12",
   "metadata": {},
   "source": [
    "# CALL THE LIBRARY"
   ]
  },
  {
   "cell_type": "code",
   "execution_count": 1,
   "id": "c9698900",
   "metadata": {},
   "outputs": [],
   "source": [
    "import pandas as pd\n",
    "from sklearn.model_selection import train_test_split\n",
    "from sklearn.ensemble import RandomForestRegressor\n",
    "from sklearn.metrics import mean_absolute_error, r2_score\n",
    "from sklearn.linear_model import LinearRegression\n",
    "from sklearn.metrics import mean_squared_error\n",
    "import matplotlib.pyplot as plt\n"
   ]
  },
  {
   "cell_type": "markdown",
   "id": "c319df8f",
   "metadata": {},
   "source": [
    "# UPLOAD THE TEST AND TRAIN DATA"
   ]
  },
  {
   "cell_type": "code",
   "execution_count": null,
   "id": "39071608",
   "metadata": {},
   "outputs": [],
   "source": [
    " url ='https://raw.githubusercontent.com/DataScience75/batch89/main/train.csv'\n",
    "train= pd.read_csv(url)\n",
    "print(train.head(2))\n"
   ]
  },
  {
   "cell_type": "code",
   "execution_count": 4,
   "id": "3e8d7748",
   "metadata": {
    "collapsed": true
   },
   "outputs": [
    {
     "name": "stdout",
     "output_type": "stream",
     "text": [
      "             datetime  season  holiday  workingday  weather   temp  atemp  \\\n",
      "0  2012-06-30 1:00:00       3        0           0        3  26.24  28.79   \n",
      "1  2012-06-30 2:00:00       3        0           0        2  26.24  28.79   \n",
      "\n",
      "   humidity  windspeed  casual  registered  \n",
      "0      89.0    15.0013       3          55  \n",
      "1      89.0     0.0000       7          54  \n"
     ]
    }
   ],
   "source": [
    "test = pd.read_csv(\"C:/Users/Hira singh/Downloads/ML Test/test.csv\")\n",
    "print(test.head(2))"
   ]
  },
  {
   "cell_type": "code",
   "execution_count": 8,
   "id": "9f74f534",
   "metadata": {
    "collapsed": true
   },
   "outputs": [
    {
     "data": {
      "text/plain": [
       "datetime      12980\n",
       "season        12980\n",
       "holiday       12980\n",
       "workingday    12980\n",
       "weather       12980\n",
       "temp          12980\n",
       "atemp         12980\n",
       "humidity      12980\n",
       "windspeed     12980\n",
       "casual        12980\n",
       "registered    12980\n",
       "count         12980\n",
       "dtype: int64"
      ]
     },
     "execution_count": 8,
     "metadata": {},
     "output_type": "execute_result"
    }
   ],
   "source": [
    "train.count()"
   ]
  },
  {
   "cell_type": "code",
   "execution_count": 7,
   "id": "1d20e758",
   "metadata": {
    "collapsed": true
   },
   "outputs": [
    {
     "data": {
      "text/plain": [
       "datetime      4399\n",
       "season        4399\n",
       "holiday       4399\n",
       "workingday    4399\n",
       "weather       4399\n",
       "temp          4399\n",
       "atemp         4399\n",
       "humidity      4399\n",
       "windspeed     4399\n",
       "casual        4399\n",
       "registered    4399\n",
       "dtype: int64"
      ]
     },
     "execution_count": 7,
     "metadata": {},
     "output_type": "execute_result"
    }
   ],
   "source": [
    "test.count()"
   ]
  },
  {
   "cell_type": "code",
   "execution_count": 11,
   "id": "817dbf6f",
   "metadata": {
    "collapsed": true
   },
   "outputs": [
    {
     "data": {
      "text/plain": [
       "<bound method NDFrame.describe of                  datetime  season  holiday  workingday  weather   temp  \\\n",
       "0      2012-06-30 1:00:00       3        0           0        3  26.24   \n",
       "1      2012-06-30 2:00:00       3        0           0        2  26.24   \n",
       "2      2012-06-30 3:00:00       3        0           0        2  26.24   \n",
       "3      2012-06-30 4:00:00       3        0           0        2  25.42   \n",
       "4      2012-06-30 5:00:00       3        0           0        1  26.24   \n",
       "...                   ...     ...      ...         ...      ...    ...   \n",
       "4394  2012-12-31 19:00:00       1        0           1        2  10.66   \n",
       "4395  2012-12-31 20:00:00       1        0           1        2  10.66   \n",
       "4396  2012-12-31 21:00:00       1        0           1        1  10.66   \n",
       "4397  2012-12-31 22:00:00       1        0           1        1  10.66   \n",
       "4398  2012-12-31 23:00:00       1        0           1        1  10.66   \n",
       "\n",
       "       atemp  humidity  windspeed  casual  registered  \n",
       "0     28.790      89.0    15.0013       3          55  \n",
       "1     28.790      89.0     0.0000       7          54  \n",
       "2     28.790      89.0     0.0000       3          20  \n",
       "3     27.275      94.0     0.0000       3          15  \n",
       "4     28.790      89.0    11.0014       3           7  \n",
       "...      ...       ...        ...     ...         ...  \n",
       "4394  12.880      60.0    11.0014      11         108  \n",
       "4395  12.880      60.0    11.0014       8          81  \n",
       "4396  12.880      60.0    11.0014       7          83  \n",
       "4397  13.635      56.0     8.9981      13          48  \n",
       "4398  13.635      65.0     8.9981      12          37  \n",
       "\n",
       "[4399 rows x 11 columns]>"
      ]
     },
     "execution_count": 11,
     "metadata": {},
     "output_type": "execute_result"
    }
   ],
   "source": [
    "test.describe"
   ]
  },
  {
   "cell_type": "code",
   "execution_count": 13,
   "id": "a2bb3f62",
   "metadata": {
    "collapsed": true
   },
   "outputs": [
    {
     "data": {
      "text/plain": [
       "Index(['datetime', 'season', 'holiday', 'workingday', 'weather', 'temp',\n",
       "       'atemp', 'humidity', 'windspeed', 'casual', 'registered'],\n",
       "      dtype='object')"
      ]
     },
     "execution_count": 13,
     "metadata": {},
     "output_type": "execute_result"
    }
   ],
   "source": [
    "test.columns"
   ]
  },
  {
   "cell_type": "code",
   "execution_count": 14,
   "id": "8a98d72b",
   "metadata": {
    "collapsed": true
   },
   "outputs": [
    {
     "data": {
      "text/plain": [
       "Index(['datetime', 'season', 'holiday', 'workingday', 'weather', 'temp',\n",
       "       'atemp', 'humidity', 'windspeed', 'casual', 'registered', 'count'],\n",
       "      dtype='object')"
      ]
     },
     "execution_count": 14,
     "metadata": {},
     "output_type": "execute_result"
    }
   ],
   "source": [
    "train.columns"
   ]
  },
  {
   "cell_type": "markdown",
   "id": "38a926c1",
   "metadata": {},
   "source": [
    "# FLOATING CHANGE  "
   ]
  },
  {
   "cell_type": "code",
   "execution_count": 16,
   "id": "07734171",
   "metadata": {},
   "outputs": [],
   "source": [
    "train['datetime'] = pd.to_datetime(train['datetime'])\n"
   ]
  },
  {
   "cell_type": "code",
   "execution_count": 18,
   "id": "abd76c6e",
   "metadata": {},
   "outputs": [],
   "source": [
    "train_first_18_months = train[train['datetime'] < train['datetime'].iloc[0] + pd.DateOffset(months=18)]\n"
   ]
  },
  {
   "cell_type": "code",
   "execution_count": 19,
   "id": "f70bf1ce",
   "metadata": {},
   "outputs": [],
   "source": [
    "train_first_18_months['hour'] = train_first_18_months['datetime'].dt.hour\n",
    "train_first_18_months['day'] = train_first_18_months['datetime'].dt.day\n",
    "train_first_18_months['month'] = train_first_18_months['datetime'].dt.month\n"
   ]
  },
  {
   "cell_type": "code",
   "execution_count": 21,
   "id": "2479b707",
   "metadata": {},
   "outputs": [],
   "source": [
    "X= ['temp', 'atemp', 'humidity', 'windspeed', 'hour', 'day', 'month']\n"
   ]
  },
  {
   "cell_type": "markdown",
   "id": "d259e5c5",
   "metadata": {},
   "source": [
    "# SPLIT THE DATA "
   ]
  },
  {
   "cell_type": "code",
   "execution_count": 22,
   "id": "2cdfa18f",
   "metadata": {},
   "outputs": [],
   "source": [
    "X = train_first_18_months[X]\n",
    "y = train_first_18_months['count']\n"
   ]
  },
  {
   "cell_type": "code",
   "execution_count": 23,
   "id": "41147ab6",
   "metadata": {},
   "outputs": [],
   "source": [
    "X_train, X_test, y_train, y_test = train_test_split(X, y, test_size=0.2, random_state=42)\n"
   ]
  },
  {
   "cell_type": "markdown",
   "id": "e27971fd",
   "metadata": {},
   "source": [
    "# CREAT A MODEL"
   ]
  },
  {
   "cell_type": "code",
   "execution_count": 24,
   "id": "51a2b5bd",
   "metadata": {},
   "outputs": [
    {
     "data": {
      "text/html": [
       "<style>#sk-container-id-1 {color: black;}#sk-container-id-1 pre{padding: 0;}#sk-container-id-1 div.sk-toggleable {background-color: white;}#sk-container-id-1 label.sk-toggleable__label {cursor: pointer;display: block;width: 100%;margin-bottom: 0;padding: 0.3em;box-sizing: border-box;text-align: center;}#sk-container-id-1 label.sk-toggleable__label-arrow:before {content: \"▸\";float: left;margin-right: 0.25em;color: #696969;}#sk-container-id-1 label.sk-toggleable__label-arrow:hover:before {color: black;}#sk-container-id-1 div.sk-estimator:hover label.sk-toggleable__label-arrow:before {color: black;}#sk-container-id-1 div.sk-toggleable__content {max-height: 0;max-width: 0;overflow: hidden;text-align: left;background-color: #f0f8ff;}#sk-container-id-1 div.sk-toggleable__content pre {margin: 0.2em;color: black;border-radius: 0.25em;background-color: #f0f8ff;}#sk-container-id-1 input.sk-toggleable__control:checked~div.sk-toggleable__content {max-height: 200px;max-width: 100%;overflow: auto;}#sk-container-id-1 input.sk-toggleable__control:checked~label.sk-toggleable__label-arrow:before {content: \"▾\";}#sk-container-id-1 div.sk-estimator input.sk-toggleable__control:checked~label.sk-toggleable__label {background-color: #d4ebff;}#sk-container-id-1 div.sk-label input.sk-toggleable__control:checked~label.sk-toggleable__label {background-color: #d4ebff;}#sk-container-id-1 input.sk-hidden--visually {border: 0;clip: rect(1px 1px 1px 1px);clip: rect(1px, 1px, 1px, 1px);height: 1px;margin: -1px;overflow: hidden;padding: 0;position: absolute;width: 1px;}#sk-container-id-1 div.sk-estimator {font-family: monospace;background-color: #f0f8ff;border: 1px dotted black;border-radius: 0.25em;box-sizing: border-box;margin-bottom: 0.5em;}#sk-container-id-1 div.sk-estimator:hover {background-color: #d4ebff;}#sk-container-id-1 div.sk-parallel-item::after {content: \"\";width: 100%;border-bottom: 1px solid gray;flex-grow: 1;}#sk-container-id-1 div.sk-label:hover label.sk-toggleable__label {background-color: #d4ebff;}#sk-container-id-1 div.sk-serial::before {content: \"\";position: absolute;border-left: 1px solid gray;box-sizing: border-box;top: 0;bottom: 0;left: 50%;z-index: 0;}#sk-container-id-1 div.sk-serial {display: flex;flex-direction: column;align-items: center;background-color: white;padding-right: 0.2em;padding-left: 0.2em;position: relative;}#sk-container-id-1 div.sk-item {position: relative;z-index: 1;}#sk-container-id-1 div.sk-parallel {display: flex;align-items: stretch;justify-content: center;background-color: white;position: relative;}#sk-container-id-1 div.sk-item::before, #sk-container-id-1 div.sk-parallel-item::before {content: \"\";position: absolute;border-left: 1px solid gray;box-sizing: border-box;top: 0;bottom: 0;left: 50%;z-index: -1;}#sk-container-id-1 div.sk-parallel-item {display: flex;flex-direction: column;z-index: 1;position: relative;background-color: white;}#sk-container-id-1 div.sk-parallel-item:first-child::after {align-self: flex-end;width: 50%;}#sk-container-id-1 div.sk-parallel-item:last-child::after {align-self: flex-start;width: 50%;}#sk-container-id-1 div.sk-parallel-item:only-child::after {width: 0;}#sk-container-id-1 div.sk-dashed-wrapped {border: 1px dashed gray;margin: 0 0.4em 0.5em 0.4em;box-sizing: border-box;padding-bottom: 0.4em;background-color: white;}#sk-container-id-1 div.sk-label label {font-family: monospace;font-weight: bold;display: inline-block;line-height: 1.2em;}#sk-container-id-1 div.sk-label-container {text-align: center;}#sk-container-id-1 div.sk-container {/* jupyter's `normalize.less` sets `[hidden] { display: none; }` but bootstrap.min.css set `[hidden] { display: none !important; }` so we also need the `!important` here to be able to override the default hidden behavior on the sphinx rendered scikit-learn.org. See: https://github.com/scikit-learn/scikit-learn/issues/21755 */display: inline-block !important;position: relative;}#sk-container-id-1 div.sk-text-repr-fallback {display: none;}</style><div id=\"sk-container-id-1\" class=\"sk-top-container\"><div class=\"sk-text-repr-fallback\"><pre>RandomForestRegressor(random_state=42)</pre><b>In a Jupyter environment, please rerun this cell to show the HTML representation or trust the notebook. <br />On GitHub, the HTML representation is unable to render, please try loading this page with nbviewer.org.</b></div><div class=\"sk-container\" hidden><div class=\"sk-item\"><div class=\"sk-estimator sk-toggleable\"><input class=\"sk-toggleable__control sk-hidden--visually\" id=\"sk-estimator-id-1\" type=\"checkbox\" checked><label for=\"sk-estimator-id-1\" class=\"sk-toggleable__label sk-toggleable__label-arrow\">RandomForestRegressor</label><div class=\"sk-toggleable__content\"><pre>RandomForestRegressor(random_state=42)</pre></div></div></div></div></div>"
      ],
      "text/plain": [
       "RandomForestRegressor(random_state=42)"
      ]
     },
     "execution_count": 24,
     "metadata": {},
     "output_type": "execute_result"
    }
   ],
   "source": [
    "model = RandomForestRegressor(n_estimators=100, random_state=42)\n",
    "model.fit(X_train, y_train)\n",
    "\n"
   ]
  },
  {
   "cell_type": "markdown",
   "id": "0b0b0c1a",
   "metadata": {},
   "source": [
    "# TRAIN DATA PREDICTIONS"
   ]
  },
  {
   "cell_type": "code",
   "execution_count": 25,
   "id": "2c34fc89",
   "metadata": {},
   "outputs": [],
   "source": [
    "predictions = model.predict(X_test)\n"
   ]
  },
  {
   "cell_type": "code",
   "execution_count": 26,
   "id": "a1ceb200",
   "metadata": {},
   "outputs": [
    {
     "name": "stdout",
     "output_type": "stream",
     "text": [
      "Mean Squared Error: 6385.354834141157\n"
     ]
    }
   ],
   "source": [
    "mse = mean_squared_error(y_test, predictions)\n",
    "print(f'Mean Squared Error: {mse}')\n"
   ]
  },
  {
   "cell_type": "markdown",
   "id": "6557fcaa",
   "metadata": {},
   "source": [
    "# PLOTTING"
   ]
  },
  {
   "cell_type": "code",
   "execution_count": 27,
   "id": "ae143e10",
   "metadata": {},
   "outputs": [
    {
     "data": {
      "image/png": "[encoded data removed]",
      "text/plain": [
       "<Figure size 640x480 with 1 Axes>"
      ]
     },
     "metadata": {},
     "output_type": "display_data"
    }
   ],
   "source": [
    "plt.scatter(y_test, predictions)\n",
    "plt.xlabel('Actual Number of Bike Rentals')\n",
    "plt.ylabel('Predicted Number of Bike Rentals')\n",
    "plt.title('Actual vs. Predicted Bike Rentals')\n",
    "plt.show()"
   ]
  },
  {
   "cell_type": "markdown",
   "id": "949c8658",
   "metadata": {},
   "source": [
    "# Test file Prediction "
   ]
  },
  {
   "cell_type": "code",
   "execution_count": 28,
   "id": "4ede1b3a",
   "metadata": {},
   "outputs": [],
   "source": [
    "test['datetime'] = pd.to_datetime(test['datetime'])\n",
    "test['hour'] = test['datetime'].dt.hour\n",
    "test['day'] = test['datetime'].dt.day\n",
    "test['month'] = test['datetime'].dt.month\n"
   ]
  },
  {
   "cell_type": "code",
   "execution_count": 29,
   "id": "97973a55",
   "metadata": {},
   "outputs": [],
   "source": [
    "X1 = ['temp', 'atemp', 'humidity', 'windspeed', 'hour', 'day', 'month']\n"
   ]
  },
  {
   "cell_type": "code",
   "execution_count": 30,
   "id": "584ad599",
   "metadata": {},
   "outputs": [],
   "source": [
    "test_predictions = model.predict(test[X1])\n"
   ]
  },
  {
   "cell_type": "code",
   "execution_count": 31,
   "id": "61a270ac",
   "metadata": {},
   "outputs": [],
   "source": [
    "test['predicted_count'] = test_predictions\n"
   ]
  },
  {
   "cell_type": "code",
   "execution_count": 32,
   "id": "8b662c27",
   "metadata": {},
   "outputs": [
    {
     "name": "stdout",
     "output_type": "stream",
     "text": [
      "                datetime  predicted_count\n",
      "0    2012-06-30 01:00:00            37.19\n",
      "1    2012-06-30 02:00:00            25.82\n",
      "2    2012-06-30 03:00:00            20.75\n",
      "3    2012-06-30 04:00:00            11.49\n",
      "4    2012-06-30 05:00:00            21.33\n",
      "...                  ...              ...\n",
      "4394 2012-12-31 19:00:00           145.96\n",
      "4395 2012-12-31 20:00:00            92.50\n",
      "4396 2012-12-31 21:00:00            50.53\n",
      "4397 2012-12-31 22:00:00            67.61\n",
      "4398 2012-12-31 23:00:00            38.04\n",
      "\n",
      "[4399 rows x 2 columns]\n"
     ]
    }
   ],
   "source": [
    "print(test[['datetime', 'predicted_count']])"
   ]
  }
 ],
 "metadata": {
  "kernelspec": {
   "display_name": "Python 3 (ipykernel)",
   "language": "python",
   "name": "python3"
  },
  "language_info": {
   "codemirror_mode": {
    "name": "ipython",
    "version": 3
   },
   "file_extension": ".py",
   "mimetype": "text/x-python",
   "name": "python",
   "nbconvert_exporter": "python",
   "pygments_lexer": "ipython3",
   "version": "3.11.4"
  }
 },
 "nbformat": 4,
 "nbformat_minor": 5
}
